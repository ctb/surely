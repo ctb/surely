{
 "metadata": {
  "name": "mapreads-nb"
 },
 "nbformat": 3,
 "worksheets": [
  {
   "cells": [
    {
     "cell_type": "markdown",
     "source": [
      "A simple mapping example",
      "========================",
      "",
      "Here, we have a randomly generated genome sequence in 'genome.fa', and a bunch of fake \"reads\" generated randomly from it.  These reads are 100-base subsequences taken from random positions in the genome.  The reads are taken in forward and reverse-complement orientations, randomly, with a 1% substitution error rate.",
      "",
      "We then use 'bowtie' to take the genome reads and map them against 'genome', which has been indexed by bowtie-build for fast matching.  bowtie is a commonly used command-line program that matches reads to the source genome.",
      "",
      "Note that we are using 'screed', a simple Python library for loading in sequences."
     ]
    },
    {
     "cell_type": "code",
     "collapsed": true,
     "input": [
      "reference_genome = 'genome.fa'  # actual fasta file",
      "reference_genome_idx = 'genome' # for bowtie",
      "short_reads = 'genome-reads.fa' # fasta file of reads"
     ],
     "language": "python",
     "outputs": [],
     "prompt_number": 1
    },
    {
     "cell_type": "code",
     "collapsed": false,
     "input": [
      "# map reads!  this is the most computationally intensive step, generally.",
      "import mapreads",
      "outfile, out, err = mapreads.bowtie_map_reads(reference_genome_idx, short_reads, params=['-f'])",
      "print err"
     ],
     "language": "python",
     "outputs": [
      {
       "output_type": "stream",
       "stream": "stdout",
       "text": [
        "# reads processed: 80000",
        "# reads with at least one reported alignment: 76733 (95.92%)",
        "# reads that failed to align: 3267 (4.08%)",
        "Reported 76733 alignments to 1 output stream(s)",
        ""
       ]
      }
     ],
     "prompt_number": 2
    },
    {
     "cell_type": "code",
     "collapsed": false,
     "input": [
      "# read in the mapping output file",
      "def read_mapping_file(filename):",
      "    for line in open(filename):",
      "        _, orient, refname, pos, read = line.split()[:5]",
      "        pos = int(pos)",
      "        yield orient, refname, pos, read",
      "        "
     ],
     "language": "python",
     "outputs": [],
     "prompt_number": 6
    },
    {
     "cell_type": "code",
     "collapsed": false,
     "input": [
      "# load in the reference sequence(s) and create empty arrays of the appropriate sizes",
      "import screed",
      "",
      "refcov = {}",
      "for record in screed.open(reference_genome):",
      "    counts=[0] * len(record.sequence)",
      "    refcov[record.name] = counts"
     ],
     "language": "python",
     "outputs": [],
     "prompt_number": 7
    },
    {
     "cell_type": "code",
     "collapsed": false,
     "input": [
      "# now go through the reads and, for each mapped position, increment the associated location in the reference sequence.",
      "# note: bowtie gives position 'pos' as leftmost, 0-based start of mapping, independent of the orientation.",
      "",
      "# this is probably the second most computationally expensive step.",
      "",
      "for orient, refname, pos, read in read_mapping_file(outfile):",
      "    cov = refcov[refname]",
      "    for i in range(pos, pos + len(read)):",
      "        cov[i] += 1"
     ],
     "language": "python",
     "outputs": [],
     "prompt_number": 8
    },
    {
     "cell_type": "code",
     "collapsed": true,
     "input": [
      "# now, calculate the distribution of the counts at each position.",
      "import numpy",
      "",
      "dist = {}",
      "for name in refcov:",
      "    for count in refcov[name]:",
      "        dist[count] = dist.get(count, 0) + 1",
      "        ",
      "dist = sorted(dist.items())",
      "dist = numpy.array(dist)"
     ],
     "language": "python",
     "outputs": [],
     "prompt_number": 9
    },
    {
     "cell_type": "code",
     "collapsed": false,
     "input": [
      "xlabel('coverage')",
      "ylabel('N bases at that coverage')",
      "title('mapping-based coverage of each base')",
      "plot(dist[:,0], dist[:,1])"
     ],
     "language": "python",
     "outputs": [
      {
       "output_type": "pyout",
       "prompt_number": 10,
       "text": [
        "[<matplotlib.lines.Line2D at 0x1021bd050>]"
       ]
      },
      {
       "output_type": "display_data",
       "png": "[encoded data removed]"
      }
     ],
     "prompt_number": 10
    },
    {
     "cell_type": "markdown",
     "source": [
      "Parallelism options",
      "===================",
      "",
      "I can see a couple of different ways to apply IPython parallelism together with StarCluster.",
      "",
      "One is very course-grained: take already-divided-up read files and run bowtie_map_reads on them, against the same reference genome.  (Imagine that you had 100 *different* genome-reads.fa files, basically.)",
      "",
      "Another is a bit more interesting: assume that you have a few honkin' big files, shared-accessible, and send around only offsets or slices into those files for processing.",
      "",
      "I'll start by trying to put some IPython parallel magic around the first, and then work my way up to the second (which needs some Python coding done)."
     ]
    },
    {
     "cell_type": "code",
     "collapsed": false,
     "input": [
      "# note: need to run 'ipcluster start --n=2' in the same directory as the ipynb.",
      "from IPython import parallel",
      "rc = parallel.Client()",
      "",
      "e0 = rc[0]"
     ],
     "language": "python",
     "outputs": [],
     "prompt_number": 3
    },
    {
     "cell_type": "markdown",
     "source": [
      "Running bowtie_map_reads",
      "-------------------------",
      "",
      "As a first test, let's just see if we can run bowtie_map_reads on a remote engine -- yep!"
     ]
    },
    {
     "cell_type": "code",
     "collapsed": false,
     "input": [
      "import mapreads",
      "",
      "# map reads!  this is the most computationally intensive step, generally.",
      "result = e0.apply(mapreads.bowtie_map_reads, reference_genome_idx, short_reads, params=['-f'])",
      "result.get()"
     ],
     "language": "python",
     "outputs": [
      {
       "ename": "NameError",
       "evalue": "name 'e0' is not defined",
       "output_type": "pyerr",
       "traceback": [
        "\u001b[0;31m---------------------------------------------------------------------------\u001b[0m\n\u001b[0;31mNameError\u001b[0m                                 Traceback (most recent call last)",
        "\u001b[0;32m/Users/t/dev/surely/<ipython-input-5-28f8734a3c7a>\u001b[0m in \u001b[0;36m<module>\u001b[0;34m()\u001b[0m\n\u001b[1;32m      2\u001b[0m \u001b[0;34m\u001b[0m\u001b[0m\n\u001b[1;32m      3\u001b[0m \u001b[0;31m# map reads!  this is the most computationally intensive step, generally.\u001b[0m\u001b[0;34m\u001b[0m\u001b[0;34m\u001b[0m\u001b[0m\n\u001b[0;32m----> 4\u001b[0;31m \u001b[0mresult\u001b[0m \u001b[0;34m=\u001b[0m \u001b[0me0\u001b[0m\u001b[0;34m.\u001b[0m\u001b[0mapply\u001b[0m\u001b[0;34m(\u001b[0m\u001b[0mmapreads\u001b[0m\u001b[0;34m.\u001b[0m\u001b[0mbowtie_map_reads\u001b[0m\u001b[0;34m,\u001b[0m \u001b[0mreference_genome_idx\u001b[0m\u001b[0;34m,\u001b[0m \u001b[0mshort_reads\u001b[0m\u001b[0;34m,\u001b[0m \u001b[0mparams\u001b[0m\u001b[0;34m=\u001b[0m\u001b[0;34m[\u001b[0m\u001b[0;34m'-f'\u001b[0m\u001b[0;34m]\u001b[0m\u001b[0;34m)\u001b[0m\u001b[0;34m\u001b[0m\u001b[0m\n\u001b[0m\u001b[1;32m      5\u001b[0m \u001b[0mresult\u001b[0m\u001b[0;34m.\u001b[0m\u001b[0mget\u001b[0m\u001b[0;34m(\u001b[0m\u001b[0;34m)\u001b[0m\u001b[0;34m\u001b[0m\u001b[0m\n",
        "\u001b[0;31mNameError\u001b[0m: name 'e0' is not defined"
       ]
      }
     ],
     "prompt_number": 5
    },
    {
     "cell_type": "markdown",
     "source": [
      "Running bowtie_map_reads on multiple files",
      "------------------------------------------",
      "",
      "Cool -- it works on one.  Can we do it across more than one, with (potentially) many different file names?"
     ]
    },
    {
     "cell_type": "code",
     "collapsed": false,
     "input": [
      "eall = rc[:] # get all workers",
      "",
      "# first, define global variables & import mapreads",
      "eall['reference_genome_idx'] = reference_genome_idx",
      "with eall.sync_imports():",
      "    import mapreads",
      "",
      "# now, define a new function that takes in a reads file and maps it to the genome, etc.etc.",
      "def map_to_genome(readfile):",
      "    return mapreads.bowtie_map_reads(reference_genome_idx, readfile, params=['-f'])"
     ],
     "language": "python",
     "outputs": [
      {
       "output_type": "stream",
       "stream": "stdout",
       "text": [
        "importing mapreads on engine(s)"
       ]
      }
     ],
     "prompt_number": 4
    },
    {
     "cell_type": "code",
     "collapsed": true,
     "input": [
      "# create a list of files to be mapped (they are all the same here, but they could be different)",
      "inpfiles = [short_reads]*3",
      "",
      "# now... go!",
      "r = eall.map_async(map_to_genome, inpfiles)"
     ],
     "language": "python",
     "outputs": [],
     "prompt_number": 5
    },
    {
     "cell_type": "code",
     "collapsed": false,
     "input": [
      "# block & wait for response.",
      "r.get()"
     ],
     "language": "python",
     "outputs": [
      {
       "output_type": "pyout",
       "prompt_number": 6,
       "text": [
        "[('/var/folders/y6/s1r3q87933s6gjdrtmts1npc0000gn/T/mapreads_DiiBSb/out.map',",
        "  '',",
        "  '# reads processed: 80000\\n# reads with at least one reported alignment: 76733 (95.92%)\\n# reads that failed to align: 3267 (4.08%)\\nReported 76733 alignments to 1 output stream(s)\\n'),",
        " ('/var/folders/y6/s1r3q87933s6gjdrtmts1npc0000gn/T/mapreads_TdlbBC/out.map',",
        "  '',",
        "  '# reads processed: 80000\\n# reads with at least one reported alignment: 76733 (95.92%)\\n# reads that failed to align: 3267 (4.08%)\\nReported 76733 alignments to 1 output stream(s)\\n'),",
        " ('/var/folders/y6/s1r3q87933s6gjdrtmts1npc0000gn/T/mapreads_zVcS6V/out.map',",
        "  '',",
        "  '# reads processed: 80000\\n# reads with at least one reported alignment: 76733 (95.92%)\\n# reads that failed to align: 3267 (4.08%)\\nReported 76733 alignments to 1 output stream(s)\\n')]"
       ]
      }
     ],
     "prompt_number": 6
    },
    {
     "cell_type": "markdown",
     "source": [
      "Nifty!  So, that's all pretty easy, then, as long as the files are accessible.  Can we partition a single file across multiple mapping runs?",
      "",
      "Partitioning a single mapping file",
      "----------------------------------",
      "",
      "The main trick we need to pull off here is to write a function that takes in a start/stop pair for a particular file and then uses the mapping software only on those reads.  Below, we'll write one that does so by creating a temporary input file; bowtie accepts stdin, too, so that would work if we wanted to get slightly fancier and avoid temp files."
     ]
    },
    {
     "cell_type": "code",
     "collapsed": false,
     "input": [
      "# note: need to run 'ipcluster start --n=2' in the same directory as the ipynb.",
      "from IPython import parallel",
      "rc = parallel.Client()",
      "",
      "eall = rc[:]"
     ],
     "language": "python",
     "outputs": [],
     "prompt_number": 2
    },
    {
     "cell_type": "code",
     "collapsed": false,
     "input": [
      "eall['reference_genome_idx'] = reference_genome_idx",
      "",
      "with eall.sync_imports():",
      "    import bigsplitread, mapreads",
      "",
      "def mapchunk_to_genome(arg):",
      "    readfile, chunk_n, total_chunks = arg",
      "    print chunk_n",
      "    chunks = bigsplitread.get_chunks(readfile, total_chunks)",
      "    print total_chunks, chunks, len(chunks)",
      "    chunk = chunks[chunk_n]",
      "    (start, stop) = chunk",
      "    chunkfile = bigsplitread.extract_reads_to_file(readfile, start, stop)",
      "    return mapreads.bowtie_map_reads(reference_genome_idx, chunkfile, params=['-f'])",
      "",
      "mapchunk_to_genome( (short_reads, 9, 10) )"
     ],
     "language": "python",
     "outputs": [
      {
       "output_type": "stream",
       "stream": "stdout",
       "text": [
        "importing bigsplitread on engine(s)",
        "importing mapreads on engine(s)",
        "9",
        "894889 8948890 10",
        "10 [(0, 894889), (894889, 1789778), (1789778, 2684667), (2684667, 3579556), (3579556, 4474445), (4474445, 5369334), (5369334, 6264223), (6264223, 7159112), (7159112, 8054001), (8054001, 8948890)] 10"
       ]
      },
      {
       "output_type": "pyout",
       "prompt_number": 3,
       "text": [
        "('/var/folders/y6/s1r3q87933s6gjdrtmts1npc0000gn/T/mapreads_YeIiR2/out.map',",
        " '',",
        " '# reads processed: 7990\\n# reads with at least one reported alignment: 7637 (95.58%)\\n# reads that failed to align: 353 (4.42%)\\nReported 7637 alignments to 1 output stream(s)\\n')"
       ]
      }
     ],
     "prompt_number": 3
    },
    {
     "cell_type": "code",
     "collapsed": false,
     "input": [
      "N_CHUNKS=10",
      "chunks = [ (short_reads, i, N_CHUNKS) for i in range(N_CHUNKS) ]",
      "",
      "r = eall.map_async(mapchunk_to_genome, chunks)"
     ],
     "language": "python",
     "outputs": [],
     "prompt_number": 6
    },
    {
     "cell_type": "code",
     "collapsed": false,
     "input": [
      "r.get()"
     ],
     "language": "python",
     "outputs": [
      {
       "output_type": "pyout",
       "prompt_number": 7,
       "text": [
        "[('/var/folders/y6/s1r3q87933s6gjdrtmts1npc0000gn/T/mapreads_UrO559/out.map',",
        "  '',",
        "  '# reads processed: 8073\\n# reads with at least one reported alignment: 7741 (95.89%)\\n# reads that failed to align: 332 (4.11%)\\nReported 7741 alignments to 1 output stream(s)\\n'),",
        " ('/var/folders/y6/s1r3q87933s6gjdrtmts1npc0000gn/T/mapreads_c5DXbl/out.map',",
        "  '',",
        "  '# reads processed: 8007\\n# reads with at least one reported alignment: 7673 (95.83%)\\n# reads that failed to align: 334 (4.17%)\\nReported 7673 alignments to 1 output stream(s)\\n'),",
        " ('/var/folders/y6/s1r3q87933s6gjdrtmts1npc0000gn/T/mapreads_JHY7iz/out.map',",
        "  '',",
        "  '# reads processed: 7990\\n# reads with at least one reported alignment: 7682 (96.15%)\\n# reads that failed to align: 308 (3.85%)\\nReported 7682 alignments to 1 output stream(s)\\n'),",
        " ('/var/folders/y6/s1r3q87933s6gjdrtmts1npc0000gn/T/mapreads_ekKEMV/out.map',",
        "  '',",
        "  '# reads processed: 7990\\n# reads with at least one reported alignment: 7670 (95.99%)\\n# reads that failed to align: 320 (4.01%)\\nReported 7670 alignments to 1 output stream(s)\\n'),",
        " ('/var/folders/y6/s1r3q87933s6gjdrtmts1npc0000gn/T/mapreads_SGQPWH/out.map',",
        "  '',",
        "  '# reads processed: 7990\\n# reads with at least one reported alignment: 7680 (96.12%)\\n# reads that failed to align: 310 (3.88%)\\nReported 7680 alignments to 1 output stream(s)\\n'),",
        " ('/var/folders/y6/s1r3q87933s6gjdrtmts1npc0000gn/T/mapreads__cO3ht/out.map',",
        "  '',",
        "  '# reads processed: 7990\\n# reads with at least one reported alignment: 7663 (95.91%)\\n# reads that failed to align: 327 (4.09%)\\nReported 7663 alignments to 1 output stream(s)\\n'),",
        " ('/var/folders/y6/s1r3q87933s6gjdrtmts1npc0000gn/T/mapreads_pKExkZ/out.map',",
        "  '',",
        "  '# reads processed: 7990\\n# reads with at least one reported alignment: 7664 (95.92%)\\n# reads that failed to align: 326 (4.08%)\\nReported 7664 alignments to 1 output stream(s)\\n'),",
        " ('/var/folders/y6/s1r3q87933s6gjdrtmts1npc0000gn/T/mapreads_l62fB0/out.map',",
        "  '',",
        "  '# reads processed: 7990\\n# reads with at least one reported alignment: 7663 (95.91%)\\n# reads that failed to align: 327 (4.09%)\\nReported 7663 alignments to 1 output stream(s)\\n'),",
        " ('/var/folders/y6/s1r3q87933s6gjdrtmts1npc0000gn/T/mapreads_saOY1g/out.map',",
        "  '',",
        "  '# reads processed: 7990\\n# reads with at least one reported alignment: 7660 (95.87%)\\n# reads that failed to align: 330 (4.13%)\\nReported 7660 alignments to 1 output stream(s)\\n'),",
        " ('/var/folders/y6/s1r3q87933s6gjdrtmts1npc0000gn/T/mapreads_tE_PRe/out.map',",
        "  '',",
        "  '# reads processed: 7990\\n# reads with at least one reported alignment: 7637 (95.58%)\\n# reads that failed to align: 353 (4.42%)\\nReported 7637 alignments to 1 output stream(s)\\n')]"
       ]
      }
     ],
     "prompt_number": 7
    },
    {
     "cell_type": "code",
     "collapsed": true,
     "input": [],
     "language": "python",
     "outputs": []
    }
   ]
  }
 ]
}